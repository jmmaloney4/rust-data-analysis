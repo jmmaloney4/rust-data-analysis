{
 "cells": [
  {
   "cell_type": "markdown",
   "id": "71294001",
   "metadata": {},
   "source": [
    "## Install Required Dependencies"
   ]
  },
  {
   "cell_type": "code",
   "execution_count": 2,
   "id": "41d4df73",
   "metadata": {},
   "outputs": [],
   "source": [
    ":dep plotters = { version = \"^0.3.4\", default_features = false, features = [\"evcxr\", \"all_series\"] }\n",
    ":dep ndarray = {version = \"0.15.6\"}\n",
    ":dep ndarray-rand = {version = \"0.14.0\"}"
   ]
  },
  {
   "cell_type": "markdown",
   "id": "ddf5d3fc",
   "metadata": {},
   "source": [
    "### Import Modules"
   ]
  },
  {
   "cell_type": "code",
   "execution_count": null,
   "id": "6e796a35",
   "metadata": {},
   "outputs": [],
   "source": [
    "use plotters::prelude::*;\n",
    "use ndarray::prelude::*;\n",
    "use ndarray::{array, Array, s};\n",
    "use ndarray_rand::RandomExt;\n",
    "use ndarray_rand::rand_distr::Uniform;"
   ]
  },
  {
   "cell_type": "markdown",
   "id": "a780d426",
   "metadata": {},
   "source": [
    "<hr />"
   ]
  },
  {
   "cell_type": "markdown",
   "id": "b5a3f91d",
   "metadata": {},
   "source": [
    "## Single-Line Plots"
   ]
  },
  {
   "cell_type": "markdown",
   "id": "454057c4",
   "metadata": {},
   "source": [
    "### Using Arrays"
   ]
  },
  {
   "cell_type": "code",
   "execution_count": null,
   "id": "c3541c6b",
   "metadata": {},
   "outputs": [],
   "source": [
    "evcxr_figure((640, 240), |root| {\n",
    "    let mut chart = ChartBuilder::on(&root)\n",
    "        .build_cartesian_2d(0f32..7f32, 0f32..7f32)?;\n",
    "\n",
    "    let x_axis = [1.0, 2.0, 3.0, 4.0, 5.0, 6.0];\n",
    "\n",
    "    chart.draw_series(LineSeries::new(\n",
    "        x_axis.map(|x| (x, x)),\n",
    "        &RED,\n",
    "    ))?;\n",
    "    Ok(())\n",
    "}).style(\"width:100%\")"
   ]
  },
  {
   "cell_type": "markdown",
   "id": "5f26bf4b",
   "metadata": {},
   "source": [
    "### Using Ndarray"
   ]
  },
  {
   "cell_type": "code",
   "execution_count": null,
   "id": "be7d211a",
   "metadata": {},
   "outputs": [],
   "source": [
    "evcxr_figure((640, 240), |root| {\n",
    "    let mut chart = ChartBuilder::on(&root)\n",
    "        .build_cartesian_2d(0f32..7f32, 0f32..7f32)?;\n",
    "    \n",
    "    let x_axis = Array::range(1., 7., 1.);\n",
    "    \n",
    "    chart.draw_series(LineSeries::new(\n",
    "        x_axis.into_raw_vec().into_iter().map(|x| (x, x)),\n",
    "        &RED,\n",
    "    ))?;\n",
    "    Ok(())\n",
    "}).style(\"width:100%\")"
   ]
  },
  {
   "cell_type": "markdown",
   "id": "65512190",
   "metadata": {},
   "source": [
    "### Cubic Function"
   ]
  },
  {
   "cell_type": "code",
   "execution_count": null,
   "id": "ffbb9928",
   "metadata": {},
   "outputs": [],
   "source": [
    "let points_coordinates: Vec<(f32, f32)> = {\n",
    "    let x_axis = vec![1.0, 2.0, 3.0, 4.0, 5.0, 6.0];\n",
    "    let cubic: Vec<f32> = x_axis.iter().map(|x| i32::pow(*x as i32, 3) as f32).collect::<Vec<f32>>();\n",
    "    x_axis.into_iter().zip(cubic).collect()\n",
    "};\n",
    "points_coordinates"
   ]
  },
  {
   "cell_type": "code",
   "execution_count": null,
   "id": "cdb376ec",
   "metadata": {},
   "outputs": [],
   "source": [
    "evcxr_figure((640, 240), |root| {\n",
    "    let mut chart = ChartBuilder::on(&root)\n",
    "        .build_cartesian_2d(0f32..7f32, 0f32..220f32)?;\n",
    "\n",
    "    chart.draw_series(LineSeries::new(\n",
    "        points_coordinates.iter().map(|(x, y)| (*x, *y)),\n",
    "        &RED,\n",
    "    ))?;\n",
    "    Ok(())\n",
    "}).style(\"width:100%\")"
   ]
  },
  {
   "cell_type": "markdown",
   "id": "f0759602",
   "metadata": {},
   "source": [
    "<hr />"
   ]
  },
  {
   "cell_type": "markdown",
   "id": "eedeedb0",
   "metadata": {},
   "source": [
    "## Multiline Plots"
   ]
  },
  {
   "cell_type": "markdown",
   "id": "aebc65d3",
   "metadata": {},
   "source": [
    "### Using Vectors"
   ]
  },
  {
   "cell_type": "code",
   "execution_count": null,
   "id": "992a2f79",
   "metadata": {},
   "outputs": [],
   "source": [
    "let linear_coordinates: Vec<(f32, f32)> = {\n",
    "    let x_axis = vec![1.0, 2.0, 3.0, 4.0, 5.0, 6.0];\n",
    "    let linear: Vec<f32> = x_axis.iter().map(|x| *x).collect::<Vec<f32>>();\n",
    "    x_axis.into_iter().zip(linear).collect()\n",
    "};\n",
    "let quadratic_coordinates: Vec<(f32, f32)> = {\n",
    "    let x_axis = vec![1.0, 2.0, 3.0, 4.0, 5.0, 6.0];\n",
    "    let quadratic: Vec<f32> = x_axis.iter().map(|x| i32::pow(*x as i32, 2) as f32).collect::<Vec<f32>>();\n",
    "    x_axis.into_iter().zip(quadratic).collect()\n",
    "};\n",
    "let cubic_coordinates: Vec<(f32, f32)> = {\n",
    "    let x_axis = vec![1.0, 2.0, 3.0, 4.0, 5.0, 6.0];\n",
    "    let cubic: Vec<f32> = x_axis.iter().map(|x| i32::pow(*x as i32, 3) as f32).collect::<Vec<f32>>();\n",
    "    x_axis.into_iter().zip(cubic).collect()\n",
    "};\n",
    "quadratic_coordinates"
   ]
  },
  {
   "cell_type": "code",
   "execution_count": null,
   "id": "a790cf8d",
   "metadata": {},
   "outputs": [],
   "source": [
    "evcxr_figure((640, 240), |root| {\n",
    "    let mut chart = ChartBuilder::on(&root)\n",
    "        .build_cartesian_2d(0f32..7f32, 0f32..220f32)?;\n",
    "\n",
    "    chart.draw_series(LineSeries::new(\n",
    "        linear_coordinates.iter().map(|(x, y)| (*x, *y)),\n",
    "        &RED,\n",
    "    ))?;\n",
    "\n",
    "    chart.draw_series(LineSeries::new(\n",
    "        quadratic_coordinates.iter().map(|(x, y)| (*x, *y)),\n",
    "        &GREEN,\n",
    "    ))?;\n",
    "\n",
    "    chart.draw_series(LineSeries::new(\n",
    "        cubic_coordinates.iter().map(|(x, y)| (*x, *y)),\n",
    "        &BLUE,\n",
    "    ))?;\n",
    "\n",
    "    Ok(())\n",
    "}).style(\"width:100%\")"
   ]
  },
  {
   "cell_type": "markdown",
   "id": "60976174",
   "metadata": {},
   "source": [
    "### Using Ndarray"
   ]
  },
  {
   "cell_type": "code",
   "execution_count": null,
   "id": "47eb8011",
   "metadata": {},
   "outputs": [],
   "source": [
    "let linear_coordinates: Vec<(f32, f32)> = {\n",
    "    let x_y_axes = array!([[1., 2., 3., 4.], [1., 2., 3., 4.]]);\n",
    "    let x_axis: Vec<f32> = x_y_axes.slice(s![0, 0, ..]).to_vec();\n",
    "    let y_axis: Vec<f32> = x_y_axes.slice(s![0, 1, ..]).to_vec();\n",
    "    x_axis.into_iter().zip(y_axis).collect()\n",
    "};\n",
    "let quadratic_coordinates: Vec<(f32, f32)> = {\n",
    "    let x_y_axes = array!([[1., 2., 3., 4.], [1., 4., 9., 16.]]);\n",
    "    let x_axis: Vec<f32> = x_y_axes.slice(s![0, 0, ..]).to_vec();\n",
    "    let y_axis: Vec<f32> = x_y_axes.slice(s![0, 1, ..]).to_vec();\n",
    "    x_axis.into_iter().zip(y_axis).collect()\n",
    "};\n",
    "quadratic_coordinates"
   ]
  },
  {
   "cell_type": "code",
   "execution_count": null,
   "id": "e9b1dc72",
   "metadata": {
    "scrolled": true
   },
   "outputs": [],
   "source": [
    "evcxr_figure((640, 240), |root| {\n",
    "    let mut chart = ChartBuilder::on(&root)\n",
    "        .build_cartesian_2d(0f32..5f32, 0f32..17f32)?;\n",
    "\n",
    "    chart.draw_series(LineSeries::new(\n",
    "        linear_coordinates.iter().map(|(x, y)| (*x, *y)),\n",
    "        &RED,\n",
    "    ))?;\n",
    "\n",
    "    chart.draw_series(LineSeries::new(\n",
    "        quadratic_coordinates.iter().map(|(x, y)| (*x, *y)),\n",
    "        &GREEN,\n",
    "    ))?;\n",
    "\n",
    "    Ok(())\n",
    "}).style(\"width:100%\")"
   ]
  },
  {
   "cell_type": "markdown",
   "id": "540cd471",
   "metadata": {},
   "source": [
    "### Using Ndarray-Rand"
   ]
  },
  {
   "cell_type": "code",
   "execution_count": null,
   "id": "80d06770",
   "metadata": {},
   "outputs": [],
   "source": [
    "let mut random_samples: Vec<(f32, f32)> = {\n",
    "    let x_y_axes = Array::random((2, 50), Uniform::new(0., 1.));\n",
    "    let x_axis: Vec<f32> = x_y_axes.slice(s![0, ..]).to_vec();\n",
    "    let y_axis: Vec<f32> = x_y_axes.slice(s![1, ..]).to_vec();\n",
    "    x_axis.into_iter().zip(y_axis).collect()\n",
    "};\n",
    "random_samples.sort_by(|(a, b), (c, d)| a.partial_cmp(c).unwrap());\n",
    "random_samples[..10]"
   ]
  },
  {
   "cell_type": "code",
   "execution_count": null,
   "id": "7dd5fb79",
   "metadata": {},
   "outputs": [],
   "source": [
    "evcxr_figure((640, 240), |root| {\n",
    "    let mut chart = ChartBuilder::on(&root)\n",
    "        .build_cartesian_2d(0f32..1f32, 0f32..1f32)?;\n",
    "\n",
    "    chart.draw_series(LineSeries::new(\n",
    "        random_samples.iter().map(|(x, y)| (*x, *y)),\n",
    "        &RED,\n",
    "    ))?;\n",
    "\n",
    "    Ok(())\n",
    "}).style(\"width:100%\")"
   ]
  },
  {
   "cell_type": "markdown",
   "id": "9f073df9",
   "metadata": {},
   "source": [
    "<hr />"
   ]
  },
  {
   "cell_type": "markdown",
   "id": "12759274",
   "metadata": {},
   "source": [
    "## Grid, Axes, and Labels"
   ]
  },
  {
   "cell_type": "markdown",
   "id": "cd7e4da0",
   "metadata": {},
   "source": [
    "### Add a Mesh/Grid"
   ]
  },
  {
   "cell_type": "code",
   "execution_count": null,
   "id": "12d3bbfa",
   "metadata": {},
   "outputs": [],
   "source": [
    "evcxr_figure((640, 240), |root| {\n",
    "    let mut chart = ChartBuilder::on(&root)\n",
    "        .build_cartesian_2d(0f32..1f32, 0f32..1f32)?;\n",
    "\n",
    "    chart.configure_mesh().draw()?;\n",
    "\n",
    "    Ok(())\n",
    "}).style(\"width:100%\")"
   ]
  },
  {
   "cell_type": "markdown",
   "id": "b3c31798",
   "metadata": {},
   "source": [
    "### Add Labels"
   ]
  },
  {
   "cell_type": "code",
   "execution_count": null,
   "id": "50c40088",
   "metadata": {},
   "outputs": [],
   "source": [
    "evcxr_figure((640, 480), |root| {\n",
    "    // The following code will create a chart context\n",
    "    let mut chart = ChartBuilder::on(&root)\n",
    "        .caption(\"Plot Demo\", (\"Arial\", 20).into_font())\n",
    "        .x_label_area_size(50)\n",
    "        .y_label_area_size(50)\n",
    "        .build_cartesian_2d(0f32..1f32, 0f32..1f32)?;\n",
    "    \n",
    "    chart.configure_mesh()\n",
    "        .x_desc(\"x = Array::range(1., 7., 1.);\")\n",
    "        .y_desc(\"y = f(x)\")\n",
    "        .draw()?;\n",
    "    \n",
    "    Ok(())\n",
    "}).style(\"width: 60%\")"
   ]
  },
  {
   "cell_type": "markdown",
   "id": "0910d4d9",
   "metadata": {},
   "source": [
    "### Legend"
   ]
  },
  {
   "cell_type": "code",
   "execution_count": null,
   "id": "33d76fae",
   "metadata": {},
   "outputs": [],
   "source": [
    "evcxr_figure((640, 480), |root| {\n",
    "    // The following code will create a chart context\n",
    "    let mut chart = ChartBuilder::on(&root)\n",
    "        .caption(\"Plot Demo\", (\"Arial\", 20).into_font())\n",
    "        .x_label_area_size(50)\n",
    "        .y_label_area_size(50)\n",
    "        .build_cartesian_2d(1f32..7f32, 1f32..14f32)?;\n",
    "    \n",
    "    let x = Array::range(1., 7., 0.1);\n",
    "    \n",
    "    chart.configure_mesh()\n",
    "        .x_desc(\"x = Array::range(1., 7., 0.1);\")\n",
    "        .y_desc(\"y = f(x)\")\n",
    "        .draw()?;\n",
    "\n",
    "    chart.draw_series(LineSeries::new(\n",
    "        x.iter().map(|x| (*x, *x)),\n",
    "        &RED\n",
    "    )).unwrap()\n",
    "        .label(\"y = x\")\n",
    "        .legend(|(x,y)| PathElement::new(vec![(x,y), (x + 20,y)], &RED));\n",
    "    \n",
    "    chart.draw_series(LineSeries::new(\n",
    "        x.iter().map(|x| (*x, *x * 2.0)),\n",
    "        &GREEN\n",
    "    )).unwrap()\n",
    "        .label(\"y = 2 * x\")\n",
    "        .legend(|(x,y)| PathElement::new(vec![(x,y), (x + 20,y)], &GREEN));\n",
    "\n",
    "    chart.configure_series_labels()\n",
    "        .background_style(&WHITE)\n",
    "        .border_style(&BLACK)\n",
    "        .draw()?;\n",
    "\n",
    "    Ok(())\n",
    "}).style(\"width: 60%\")"
   ]
  },
  {
   "cell_type": "markdown",
   "id": "d46ef091",
   "metadata": {},
   "source": [
    "### Legend Position"
   ]
  },
  {
   "cell_type": "code",
   "execution_count": null,
   "id": "d108e3ee",
   "metadata": {},
   "outputs": [],
   "source": [
    "evcxr_figure((640, 480), |root| {\n",
    "    // The following code will create a chart context\n",
    "    let mut chart = ChartBuilder::on(&root)\n",
    "        .caption(\"Plot Demo\", (\"Arial\", 20).into_font())\n",
    "        .x_label_area_size(50)\n",
    "        .y_label_area_size(50)\n",
    "        .build_cartesian_2d(1f32..7f32, 1f32..14f32)?;\n",
    "    \n",
    "    let x = Array::range(1., 7., 0.1);\n",
    "    \n",
    "    chart.configure_mesh()\n",
    "        .x_desc(\"x = Array::range(1., 7., 0.1);\")\n",
    "        .y_desc(\"y = f(x)\")\n",
    "        .draw()?;\n",
    "\n",
    "    chart.draw_series(LineSeries::new(\n",
    "        x.iter().map(|x| (*x, *x)),\n",
    "        &RED\n",
    "    )).unwrap()\n",
    "        .label(\"y = x\")\n",
    "        .legend(|(x,y)| PathElement::new(vec![(x,y), (x + 20,y)], &RED));\n",
    "    \n",
    "    chart.draw_series(LineSeries::new(\n",
    "        x.iter().map(|x| (*x, *x * 2.0)),\n",
    "        &GREEN\n",
    "    )).unwrap()\n",
    "        .label(\"y = 2 * x\")\n",
    "        .legend(|(x,y)| PathElement::new(vec![(x,y), (x + 20,y)], &GREEN));\n",
    "\n",
    "    chart.configure_series_labels()\n",
    "        .position(SeriesLabelPosition::UpperMiddle)\n",
    "        .background_style(&WHITE)\n",
    "        .border_style(&BLACK)\n",
    "        .draw()?;\n",
    "\n",
    "    Ok(())\n",
    "}).style(\"width: 60%\")"
   ]
  },
  {
   "cell_type": "markdown",
   "id": "d11194f9",
   "metadata": {},
   "source": [
    "<hr />"
   ]
  }
 ],
 "metadata": {
  "kernelspec": {
   "display_name": "Rust",
   "language": "rust",
   "name": "rust"
  },
  "language_info": {
   "codemirror_mode": "rust",
   "file_extension": ".rs",
   "mimetype": "text/rust",
   "name": "Rust",
   "pygment_lexer": "rust",
   "version": ""
  }
 },
 "nbformat": 4,
 "nbformat_minor": 5
}
