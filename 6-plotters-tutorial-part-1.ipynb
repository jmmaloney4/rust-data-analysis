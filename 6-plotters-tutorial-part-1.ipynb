{
 "cells": [
  {
   "cell_type": "markdown",
   "id": "71294001",
   "metadata": {},
   "source": [
    "## Install Required Dependencies"
   ]
  },
  {
   "cell_type": "code",
   "execution_count": 2,
   "id": "41d4df73",
   "metadata": {},
   "outputs": [],
   "source": [
    ":dep plotters = { version = \"^0.3.4\", default_features = false, features = [\"evcxr\", \"all_series\"] }\n",
    ":dep ndarray = {version = \"0.15.6\"}"
   ]
  },
  {
   "cell_type": "markdown",
   "id": "ddf5d3fc",
   "metadata": {},
   "source": [
    "### Import Modules"
   ]
  },
  {
   "cell_type": "code",
   "execution_count": 3,
   "id": "6e796a35",
   "metadata": {},
   "outputs": [],
   "source": [
    "use plotters::prelude::*;\n",
    "use ndarray::prelude::*;\n",
    "use ndarray::{array, Array, s};"
   ]
  },
  {
   "cell_type": "markdown",
   "id": "a780d426",
   "metadata": {},
   "source": [
    "<hr />"
   ]
  },
  {
   "cell_type": "markdown",
   "id": "b5a3f91d",
   "metadata": {},
   "source": [
    "## Single-Line Plots"
   ]
  },
  {
   "cell_type": "markdown",
   "id": "454057c4",
   "metadata": {},
   "source": [
    "### Using Arrays"
   ]
  },
  {
   "cell_type": "code",
   "execution_count": 4,
   "id": "c3541c6b",
   "metadata": {},
   "outputs": [
    {
     "data": {
      "text/html": [
       "<div style=\"width:100%\"><svg width=\"640\" height=\"240\" viewBox=\"0 0 640 240\" xmlns=\"http://www.w3.org/2000/svg\">\n",
       "<polyline fill=\"none\" opacity=\"1\" stroke=\"#FF0000\" stroke-width=\"1\" points=\"91,205 182,171 273,137 365,103 456,69 547,35 \"/>\n",
       "</svg>\n",
       "</div>"
      ]
     },
     "execution_count": 4,
     "metadata": {},
     "output_type": "execute_result"
    }
   ],
   "source": [
    "evcxr_figure((640, 240), |root| {\n",
    "    let mut chart = ChartBuilder::on(&root)\n",
    "        .build_cartesian_2d(0f32..7f32, 0f32..7f32)?;\n",
    "\n",
    "    let x_axis = [1.0, 2.0, 3.0, 4.0, 5.0, 6.0];\n",
    "\n",
    "    chart.draw_series(LineSeries::new(\n",
    "        x_axis.map(|x| (x, x)),\n",
    "        &RED,\n",
    "    ))?;\n",
    "    Ok(())\n",
    "}).style(\"width:100%\")"
   ]
  },
  {
   "cell_type": "markdown",
   "id": "5f26bf4b",
   "metadata": {},
   "source": [
    "### Using Ndarray"
   ]
  },
  {
   "cell_type": "code",
   "execution_count": 5,
   "id": "be7d211a",
   "metadata": {},
   "outputs": [
    {
     "data": {
      "text/html": [
       "<div style=\"width:100%\"><svg width=\"640\" height=\"240\" viewBox=\"0 0 640 240\" xmlns=\"http://www.w3.org/2000/svg\">\n",
       "<polyline fill=\"none\" opacity=\"1\" stroke=\"#FF0000\" stroke-width=\"1\" points=\"91,205 182,171 273,137 365,103 456,69 547,35 \"/>\n",
       "</svg>\n",
       "</div>"
      ]
     },
     "execution_count": 5,
     "metadata": {},
     "output_type": "execute_result"
    }
   ],
   "source": [
    "evcxr_figure((640, 240), |root| {\n",
    "    let mut chart = ChartBuilder::on(&root)\n",
    "        .build_cartesian_2d(0f32..7f32, 0f32..7f32)?;\n",
    "    \n",
    "    let x_axis = Array::range(1., 7., 1.);\n",
    "    \n",
    "    chart.draw_series(LineSeries::new(\n",
    "        x_axis.into_raw_vec().into_iter().map(|x| (x, x)),\n",
    "        &RED,\n",
    "    ))?;\n",
    "    Ok(())\n",
    "}).style(\"width:100%\")"
   ]
  },
  {
   "cell_type": "markdown",
   "id": "65512190",
   "metadata": {},
   "source": [
    "### Cubic Function"
   ]
  },
  {
   "cell_type": "code",
   "execution_count": 6,
   "id": "ffbb9928",
   "metadata": {},
   "outputs": [
    {
     "data": {
      "text/plain": [
       "[(1.0, 1.0), (2.0, 8.0), (3.0, 27.0), (4.0, 64.0), (5.0, 125.0), (6.0, 216.0)]"
      ]
     },
     "execution_count": 6,
     "metadata": {},
     "output_type": "execute_result"
    }
   ],
   "source": [
    "let points_coordinates: Vec<(f32, f32)> = {\n",
    "    let x_axis = vec![1.0, 2.0, 3.0, 4.0, 5.0, 6.0];\n",
    "    let cubic: Vec<f32> = x_axis.iter().map(|x| i32::pow(*x as i32, 3) as f32).collect::<Vec<f32>>();\n",
    "    x_axis.into_iter().zip(cubic).collect()\n",
    "};\n",
    "points_coordinates"
   ]
  },
  {
   "cell_type": "code",
   "execution_count": 7,
   "id": "cdb376ec",
   "metadata": {},
   "outputs": [
    {
     "data": {
      "text/html": [
       "<div style=\"width:100%\"><svg width=\"640\" height=\"240\" viewBox=\"0 0 640 240\" xmlns=\"http://www.w3.org/2000/svg\">\n",
       "<polyline fill=\"none\" opacity=\"1\" stroke=\"#FF0000\" stroke-width=\"1\" points=\"91,238 182,231 273,210 365,170 456,104 547,5 \"/>\n",
       "</svg>\n",
       "</div>"
      ]
     },
     "execution_count": 7,
     "metadata": {},
     "output_type": "execute_result"
    }
   ],
   "source": [
    "evcxr_figure((640, 240), |root| {\n",
    "    let mut chart = ChartBuilder::on(&root)\n",
    "        .build_cartesian_2d(0f32..7f32, 0f32..220f32)?;\n",
    "\n",
    "    chart.draw_series(LineSeries::new(\n",
    "        points_coordinates.iter().map(|(x, y)| (*x, *y)),\n",
    "        &RED,\n",
    "    ))?;\n",
    "    Ok(())\n",
    "}).style(\"width:100%\")"
   ]
  },
  {
   "cell_type": "markdown",
   "id": "f0759602",
   "metadata": {},
   "source": [
    "<hr />"
   ]
  },
  {
   "cell_type": "markdown",
   "id": "eedeedb0",
   "metadata": {},
   "source": [
    "## Multiline Plots"
   ]
  },
  {
   "cell_type": "markdown",
   "id": "aebc65d3",
   "metadata": {},
   "source": [
    "### Using Vectors"
   ]
  },
  {
   "cell_type": "code",
   "execution_count": 8,
   "id": "992a2f79",
   "metadata": {},
   "outputs": [
    {
     "data": {
      "text/plain": [
       "[(1.0, 1.0), (2.0, 4.0), (3.0, 9.0), (4.0, 16.0), (5.0, 25.0), (6.0, 36.0)]"
      ]
     },
     "execution_count": 8,
     "metadata": {},
     "output_type": "execute_result"
    }
   ],
   "source": [
    "let linear_coordinates: Vec<(f32, f32)> = {\n",
    "    let x_axis = vec![1.0, 2.0, 3.0, 4.0, 5.0, 6.0];\n",
    "    let linear: Vec<f32> = x_axis.iter().map(|x| *x).collect::<Vec<f32>>();\n",
    "    x_axis.into_iter().zip(linear).collect()\n",
    "};\n",
    "let quadratic_coordinates: Vec<(f32, f32)> = {\n",
    "    let x_axis = vec![1.0, 2.0, 3.0, 4.0, 5.0, 6.0];\n",
    "    let quadratic: Vec<f32> = x_axis.iter().map(|x| i32::pow(*x as i32, 2) as f32).collect::<Vec<f32>>();\n",
    "    x_axis.into_iter().zip(quadratic).collect()\n",
    "};\n",
    "let cubic_coordinates: Vec<(f32, f32)> = {\n",
    "    let x_axis = vec![1.0, 2.0, 3.0, 4.0, 5.0, 6.0];\n",
    "    let cubic: Vec<f32> = x_axis.iter().map(|x| i32::pow(*x as i32, 3) as f32).collect::<Vec<f32>>();\n",
    "    x_axis.into_iter().zip(cubic).collect()\n",
    "};\n",
    "quadratic_coordinates"
   ]
  },
  {
   "cell_type": "code",
   "execution_count": 9,
   "id": "a790cf8d",
   "metadata": {},
   "outputs": [
    {
     "data": {
      "text/html": [
       "<div style=\"width:100%\"><svg width=\"640\" height=\"240\" viewBox=\"0 0 640 240\" xmlns=\"http://www.w3.org/2000/svg\">\n",
       "<polyline fill=\"none\" opacity=\"1\" stroke=\"#FF0000\" stroke-width=\"1\" points=\"91,238 182,237 273,236 365,235 456,234 547,233 \"/>\n",
       "<polyline fill=\"none\" opacity=\"1\" stroke=\"#00FF00\" stroke-width=\"1\" points=\"91,238 182,235 273,230 365,222 456,212 547,200 \"/>\n",
       "<polyline fill=\"none\" opacity=\"1\" stroke=\"#0000FF\" stroke-width=\"1\" points=\"91,238 182,231 273,210 365,170 456,104 547,5 \"/>\n",
       "</svg>\n",
       "</div>"
      ]
     },
     "execution_count": 9,
     "metadata": {},
     "output_type": "execute_result"
    }
   ],
   "source": [
    "evcxr_figure((640, 240), |root| {\n",
    "    let mut chart = ChartBuilder::on(&root)\n",
    "        .build_cartesian_2d(0f32..7f32, 0f32..220f32)?;\n",
    "\n",
    "    chart.draw_series(LineSeries::new(\n",
    "        linear_coordinates.iter().map(|(x, y)| (*x, *y)),\n",
    "        &RED,\n",
    "    ))?;\n",
    "\n",
    "    chart.draw_series(LineSeries::new(\n",
    "        quadratic_coordinates.iter().map(|(x, y)| (*x, *y)),\n",
    "        &GREEN,\n",
    "    ))?;\n",
    "\n",
    "    chart.draw_series(LineSeries::new(\n",
    "        cubic_coordinates.iter().map(|(x, y)| (*x, *y)),\n",
    "        &BLUE,\n",
    "    ))?;\n",
    "\n",
    "    Ok(())\n",
    "}).style(\"width:100%\")"
   ]
  },
  {
   "cell_type": "markdown",
   "id": "60976174",
   "metadata": {},
   "source": [
    "### Using Ndarray"
   ]
  },
  {
   "cell_type": "code",
   "execution_count": 10,
   "id": "47eb8011",
   "metadata": {},
   "outputs": [
    {
     "data": {
      "text/plain": [
       "[(1.0, 1.0), (2.0, 4.0), (3.0, 9.0), (4.0, 16.0)]"
      ]
     },
     "execution_count": 10,
     "metadata": {},
     "output_type": "execute_result"
    }
   ],
   "source": [
    "let linear_coordinates: Vec<(f32, f32)> = {\n",
    "    let x_y_axes = array!([[1., 2., 3., 4.], [1., 2., 3., 4.]]);\n",
    "    let x_axis: Vec<f32> = x_y_axes.slice(s![0, 0, ..]).to_vec();\n",
    "    let y_axis: Vec<f32> = x_y_axes.slice(s![0, 1, ..]).to_vec();\n",
    "    x_axis.into_iter().zip(y_axis).collect()\n",
    "};\n",
    "let quadratic_coordinates: Vec<(f32, f32)> = {\n",
    "    let x_y_axes = array!([[1., 2., 3., 4.], [1., 4., 9., 16.]]);\n",
    "    let x_axis: Vec<f32> = x_y_axes.slice(s![0, 0, ..]).to_vec();\n",
    "    let y_axis: Vec<f32> = x_y_axes.slice(s![0, 1, ..]).to_vec();\n",
    "    x_axis.into_iter().zip(y_axis).collect()\n",
    "};\n",
    "quadratic_coordinates"
   ]
  },
  {
   "cell_type": "code",
   "execution_count": 11,
   "id": "e9b1dc72",
   "metadata": {
    "scrolled": true
   },
   "outputs": [
    {
     "data": {
      "text/html": [
       "<div style=\"width:100%\"><svg width=\"640\" height=\"240\" viewBox=\"0 0 640 240\" xmlns=\"http://www.w3.org/2000/svg\">\n",
       "<polyline fill=\"none\" opacity=\"1\" stroke=\"#FF0000\" stroke-width=\"1\" points=\"127,225 255,211 383,197 511,183 \"/>\n",
       "<polyline fill=\"none\" opacity=\"1\" stroke=\"#00FF00\" stroke-width=\"1\" points=\"127,225 255,183 383,113 511,15 \"/>\n",
       "</svg>\n",
       "</div>"
      ]
     },
     "execution_count": 11,
     "metadata": {},
     "output_type": "execute_result"
    }
   ],
   "source": [
    "evcxr_figure((640, 240), |root| {\n",
    "    let mut chart = ChartBuilder::on(&root)\n",
    "        .build_cartesian_2d(0f32..5f32, 0f32..17f32)?;\n",
    "\n",
    "    chart.draw_series(LineSeries::new(\n",
    "        linear_coordinates.iter().map(|(x, y)| (*x, *y)),\n",
    "        &RED,\n",
    "    ))?;\n",
    "\n",
    "    chart.draw_series(LineSeries::new(\n",
    "        quadratic_coordinates.iter().map(|(x, y)| (*x, *y)),\n",
    "        &GREEN,\n",
    "    ))?;\n",
    "\n",
    "    Ok(())\n",
    "}).style(\"width:100%\")"
   ]
  }
 ],
 "metadata": {
  "kernelspec": {
   "display_name": "Rust",
   "language": "rust",
   "name": "rust"
  },
  "language_info": {
   "codemirror_mode": "rust",
   "file_extension": ".rs",
   "mimetype": "text/rust",
   "name": "Rust",
   "pygment_lexer": "rust",
   "version": ""
  }
 },
 "nbformat": 4,
 "nbformat_minor": 5
}
