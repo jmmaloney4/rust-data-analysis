{
 "cells": [
  {
   "cell_type": "markdown",
   "id": "0ad92c1a",
   "metadata": {},
   "source": [
    "## The Derivative Function"
   ]
  },
  {
   "cell_type": "markdown",
   "id": "68c09f0f",
   "metadata": {},
   "source": [
    "#### $y = x^3 - 2x^2 + 3x - 4$"
   ]
  },
  {
   "cell_type": "code",
   "execution_count": 2,
   "id": "7a076a18",
   "metadata": {},
   "outputs": [],
   "source": [
    "fn f(x: f64) -> f64 {\n",
    "    x.powi(3) - 2.0 * x.powi(2) + 3.0 * x - 4.0\n",
    "}"
   ]
  },
  {
   "cell_type": "code",
   "execution_count": 3,
   "id": "7e7b6c35",
   "metadata": {},
   "outputs": [],
   "source": [
    "fn derivative(f: fn(f64) -> f64, x: f64) -> f64 {\n",
    "    let delta_x = 1.0 / 1_000_000.0;\n",
    "    (f(x + delta_x) - f(x)) / delta_x\n",
    "}"
   ]
  },
  {
   "cell_type": "code",
   "execution_count": 4,
   "id": "7402aac7",
   "metadata": {},
   "outputs": [
    {
     "name": "stdout",
     "output_type": "stream",
     "text": [
      "The derivative at x = 2 is: 7.000004001334048\n"
     ]
    }
   ],
   "source": [
    "let x_value = 2.0;\n",
    "let result = derivative(f, x_value);\n",
    "println!(\"The derivative at x = {} is: {}\", x_value, result);"
   ]
  },
  {
   "cell_type": "markdown",
   "id": "fe412210",
   "metadata": {},
   "source": [
    "### Example 1: Exploring a Trigonometric Function"
   ]
  },
  {
   "cell_type": "markdown",
   "id": "9f5ddad4",
   "metadata": {},
   "source": [
    "#### $y = \\sin(x)$"
   ]
  },
  {
   "cell_type": "code",
   "execution_count": 5,
   "id": "3eb86388",
   "metadata": {},
   "outputs": [
    {
     "name": "stdout",
     "output_type": "stream",
     "text": [
      "Derivatives of sin(x):\n",
      "-3 -0.989992426175812\n",
      "-2 -0.4161463817986544\n",
      "-1 0.540302726670383\n",
      "1 0.5403018851213304\n",
      "2 -0.41614729129335615\n",
      "0 0.9999999999998334\n",
      "3 -0.9899925672851584\n"
     ]
    },
    {
     "data": {
      "text/plain": [
       "()"
      ]
     },
     "execution_count": 5,
     "metadata": {},
     "output_type": "execute_result"
    }
   ],
   "source": [
    "fn sin_function(x: f64) -> f64 {\n",
    "    x.sin()\n",
    "}\n",
    "\n",
    "println!(\"Derivatives of sin(x):\");\n",
    "for i in -3..=3 {\n",
    "    println!(\"{} {}\", i, derivative(sin_function, i as f64));\n",
    "}"
   ]
  },
  {
   "cell_type": "markdown",
   "id": "5a56c4ca",
   "metadata": {},
   "source": [
    "### Example 2: Analyzing an Exponential Growth Function"
   ]
  },
  {
   "cell_type": "code",
   "execution_count": 6,
   "id": "78b68684",
   "metadata": {},
   "outputs": [
    {
     "name": "stdout",
     "output_type": "stream",
     "text": [
      "Derivatives of e^x:\n",
      "-3 0.04978709326752817\n",
      "-2 0.1353353508704025\n",
      "-1 0.3678796250961014\n",
      "0 1.0000004999621837\n",
      "1 2.7182831874306146\n",
      "2 7.38905979424942\n",
      "3 20.08554696786291\n"
     ]
    },
    {
     "data": {
      "text/plain": [
       "()"
      ]
     },
     "execution_count": 6,
     "metadata": {},
     "output_type": "execute_result"
    }
   ],
   "source": [
    "fn exponential_function(x: f64) -> f64 {\n",
    "    x.exp()\n",
    "}\n",
    "\n",
    "println!(\"Derivatives of e^x:\");\n",
    "for i in -3..=3 {\n",
    "    println!(\"{} {}\", i, derivative(exponential_function, i as f64));\n",
    "}"
   ]
  },
  {
   "cell_type": "markdown",
   "id": "d225608d",
   "metadata": {},
   "source": [
    "<hr />"
   ]
  },
  {
   "cell_type": "markdown",
   "id": "bd2a4a4f",
   "metadata": {},
   "source": [
    "## Tangent Line Equation"
   ]
  },
  {
   "cell_type": "markdown",
   "id": "25c1d675",
   "metadata": {},
   "source": [
    "### The Equation of Tangent Lines"
   ]
  },
  {
   "cell_type": "code",
   "execution_count": 7,
   "id": "45726107",
   "metadata": {},
   "outputs": [],
   "source": [
    "fn f(x: f64) -> f64 {\n",
    "    // Define the curve equation here, for example, a quadratic function\n",
    "    // Let's use f(x) = x^2 - 3x + 2 as an example\n",
    "    x.powi(2) - 3.0 * x + 2.0\n",
    "}"
   ]
  },
  {
   "cell_type": "code",
   "execution_count": 8,
   "id": "206d0dcb",
   "metadata": {},
   "outputs": [],
   "source": [
    "fn slope(x1: f64, y1: f64, x2: f64, y2: f64) -> f64 {\n",
    "    (y2 - y1) / (x2 - x1)\n",
    "}"
   ]
  },
  {
   "cell_type": "code",
   "execution_count": 9,
   "id": "b7b186ea",
   "metadata": {},
   "outputs": [],
   "source": [
    "fn derivative(f: fn(f64) -> f64, x: f64) -> f64 {\n",
    "    const EPSILON: f64 = 1e-8;\n",
    "    let x1 = x - EPSILON;\n",
    "    let x2 = x + EPSILON;\n",
    "    let y1 = f(x1);\n",
    "    let y2 = f(x2);\n",
    "    (y2 - y1) / (x2 - x1)\n",
    "}"
   ]
  },
  {
   "cell_type": "code",
   "execution_count": 10,
   "id": "2a65eeaf",
   "metadata": {},
   "outputs": [],
   "source": [
    "fn tangent_line(f: fn(f64) -> f64, x: f64) {\n",
    "    let m = derivative(f, x);\n",
    "    let y0 = f(x);\n",
    "    let b = y0 - m * x;\n",
    "\n",
    "    println!(\"Equation of the tangent line at x = {:.2} is: y = {:.2}x + {:.2}\", x, m, b);\n",
    "}"
   ]
  },
  {
   "cell_type": "code",
   "execution_count": 11,
   "id": "08d8d3d4",
   "metadata": {},
   "outputs": [
    {
     "name": "stdout",
     "output_type": "stream",
     "text": [
      "Equation of the tangent line at x = -0.48 is: y = -3.96x + 1.77\n",
      "Equation of the tangent line at x = 0.67 is: y = -1.66x + 1.55\n"
     ]
    }
   ],
   "source": [
    "let point_a_x = -0.48;\n",
    "let point_b_x = 0.67;\n",
    "\n",
    "tangent_line(f, point_a_x);\n",
    "tangent_line(f, point_b_x);"
   ]
  },
  {
   "cell_type": "markdown",
   "id": "173b4aff",
   "metadata": {},
   "source": [
    "<hr />"
   ]
  },
  {
   "cell_type": "markdown",
   "id": "cc57911a",
   "metadata": {},
   "source": [
    "## Calculating Integrals"
   ]
  },
  {
   "cell_type": "code",
   "execution_count": 12,
   "id": "5011b3af",
   "metadata": {},
   "outputs": [],
   "source": [
    "fn f(x: f64) -> f64 {\n",
    "    x.powi(3) - 2.0 * x.powi(2) + 1.0\n",
    "}"
   ]
  },
  {
   "cell_type": "code",
   "execution_count": 13,
   "id": "a0c0a727",
   "metadata": {},
   "outputs": [],
   "source": [
    "fn integral_trapezoidal(f: fn(f64) -> f64, a: f64, b: f64, num_intervals: usize) -> f64 {\n",
    "    let h = (b - a) / num_intervals as f64;\n",
    "    let mut sum = 0.5 * (f(a) + f(b));\n",
    "\n",
    "    for i in 1..num_intervals {\n",
    "        let x = a + i as f64 * h;\n",
    "        sum += f(x);\n",
    "    }\n",
    "\n",
    "    sum * h\n",
    "}"
   ]
  },
  {
   "cell_type": "code",
   "execution_count": 14,
   "id": "2a8aeda0",
   "metadata": {},
   "outputs": [
    {
     "name": "stdout",
     "output_type": "stream",
     "text": [
      "The approximate area under the curve from x = 0 to x = 2 is: 0.66680\n"
     ]
    }
   ],
   "source": [
    "let lower_limit = 0.0;\n",
    "let upper_limit = 2.0;\n",
    "let num_intervals = 100;\n",
    "\n",
    "let result = integral_trapezoidal(f, lower_limit, upper_limit, num_intervals);\n",
    "println!(\"The approximate area under the curve from x = {} to x = {} is: {:.5}\", lower_limit, upper_limit, result);"
   ]
  }
 ],
 "metadata": {
  "kernelspec": {
   "display_name": "Rust",
   "language": "rust",
   "name": "rust"
  },
  "language_info": {
   "codemirror_mode": "rust",
   "file_extension": ".rs",
   "mimetype": "text/rust",
   "name": "Rust",
   "pygment_lexer": "rust",
   "version": ""
  }
 },
 "nbformat": 4,
 "nbformat_minor": 5
}
